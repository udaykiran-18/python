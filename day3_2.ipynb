{
  "nbformat": 4,
  "nbformat_minor": 0,
  "metadata": {
    "colab": {
      "provenance": [],
      "authorship_tag": "ABX9TyP5p0CA8YtRnah78vuPZ5SH",
      "include_colab_link": true
    },
    "kernelspec": {
      "name": "python3",
      "display_name": "Python 3"
    },
    "language_info": {
      "name": "python"
    }
  },
  "cells": [
    {
      "cell_type": "markdown",
      "metadata": {
        "id": "view-in-github",
        "colab_type": "text"
      },
      "source": [
        "<a href=\"https://colab.research.google.com/github/udaykiran-18/python/blob/main/day3_2.ipynb\" target=\"_parent\"><img src=\"https://colab.research.google.com/assets/colab-badge.svg\" alt=\"Open In Colab\"/></a>"
      ]
    },
    {
      "cell_type": "markdown",
      "source": [
        "Write a python program to create a lambda funciton that adds 15 to a given number"
      ],
      "metadata": {
        "id": "I3Nt1K3zQTbL"
      }
    },
    {
      "cell_type": "code",
      "source": [
        "add_15 = lambda x: x + 15\n",
        "\n",
        "# Test the lambda function with a sample number\n",
        "sample_number = 30\n",
        "result = add_15(sample_number)\n",
        "\n",
        "# Print the result\n",
        "print(f\"The result after adding 15 to {sample_number} is: {result}\")"
      ],
      "metadata": {
        "colab": {
          "base_uri": "https://localhost:8080/"
        },
        "id": "6hpUoqAwQVW0",
        "outputId": "d99875ce-da8d-43bb-d738-8b8af9efded6"
      },
      "execution_count": 1,
      "outputs": [
        {
          "output_type": "stream",
          "name": "stdout",
          "text": [
            "The result after adding 15 to 30 is: 45\n"
          ]
        }
      ]
    },
    {
      "cell_type": "markdown",
      "source": [
        "Write a funciton to create a prime number generator"
      ],
      "metadata": {
        "id": "g0WdmisMQfnQ"
      }
    },
    {
      "cell_type": "code",
      "source": [
        "def prime_generator():\n",
        "    \"\"\"Generate prime numbers indefinitely.\"\"\"\n",
        "    num = 2\n",
        "    while True:\n",
        "        is_prime = all(num % i != 0 for i in range(2, int(num**0.5) + 1))\n",
        "        if is_prime:\n",
        "            yield num\n",
        "        num += 1\n",
        "\n",
        "# Example usage:\n",
        "# Generate and print the first 5 prime numbers\n",
        "prime_gen = prime_generator()\n",
        "for _ in range(5):\n",
        "    print(next(prime_gen))\n"
      ],
      "metadata": {
        "colab": {
          "base_uri": "https://localhost:8080/"
        },
        "id": "NcAG2Y5FQgd9",
        "outputId": "c2c53dc4-7474-49ee-858a-2171c9f8d46a"
      },
      "execution_count": 2,
      "outputs": [
        {
          "output_type": "stream",
          "name": "stdout",
          "text": [
            "2\n",
            "3\n",
            "5\n",
            "7\n",
            "11\n"
          ]
        }
      ]
    },
    {
      "cell_type": "markdown",
      "source": [
        "Create a lambda funtion to filter out the even numebr from a given list"
      ],
      "metadata": {
        "id": "cNd0Zy4WQnHp"
      }
    },
    {
      "cell_type": "code",
      "source": [
        "# Sample list of numbers\n",
        "numbers = [1, 2, 3, 4, 5, 6, 7, 8, 9, 10]\n",
        "\n",
        "# Lambda function to filter out even numbers\n",
        "filter_even = lambda x: x % 2 != 0\n",
        "\n",
        "# Use filter with the lambda function\n",
        "filtered_numbers = list(filter(filter_even, numbers))\n",
        "\n",
        "# Print the result\n",
        "print(\"Original List:\", numbers)\n",
        "print(\"Filtered Even Numbers:\", filtered_numbers)\n"
      ],
      "metadata": {
        "colab": {
          "base_uri": "https://localhost:8080/"
        },
        "id": "vsaYVs3wQrnp",
        "outputId": "3cb57b36-df82-40f9-9738-dacf06424fd9"
      },
      "execution_count": 3,
      "outputs": [
        {
          "output_type": "stream",
          "name": "stdout",
          "text": [
            "Original List: [1, 2, 3, 4, 5, 6, 7, 8, 9, 10]\n",
            "Filtered Even Numbers: [1, 3, 5, 7, 9]\n"
          ]
        }
      ]
    },
    {
      "cell_type": "markdown",
      "source": [
        "Create a funciton for prime numebr generator"
      ],
      "metadata": {
        "id": "5epRpISqQ2Bq"
      }
    },
    {
      "cell_type": "code",
      "source": [
        "def is_prime(num):\n",
        "    \"\"\"Check if a number is prime.\"\"\"\n",
        "    if num < 2:\n",
        "        return False\n",
        "    for i in range(2, int(num**0.5) + 1):\n",
        "        if num % i == 0:\n",
        "            return False\n",
        "    return True\n",
        "\n",
        "def prime_generator(limit):\n",
        "    \"\"\"Generate prime numbers up to a given limit.\"\"\"\n",
        "    primes = []\n",
        "    num = 2\n",
        "    while num < limit:\n",
        "        if is_prime(num):\n",
        "            primes.append(num)\n",
        "        num += 1\n",
        "    return primes\n",
        "\n",
        "# Example usage:\n",
        "# Generate and print prime numbers up to 20\n",
        "limit = 20\n",
        "result = prime_generator(limit)\n",
        "print(f\"Prime numbers up to {limit}: {result}\")\n"
      ],
      "metadata": {
        "colab": {
          "base_uri": "https://localhost:8080/"
        },
        "id": "qteA_4JkQ7R9",
        "outputId": "23e5adda-e7ce-4c74-a176-2740899c9b49"
      },
      "execution_count": 4,
      "outputs": [
        {
          "output_type": "stream",
          "name": "stdout",
          "text": [
            "Prime numbers up to 20: [2, 3, 5, 7, 11, 13, 17, 19]\n"
          ]
        }
      ]
    },
    {
      "cell_type": "markdown",
      "source": [
        "create funciton for fibbonacci series generator"
      ],
      "metadata": {
        "id": "m6ZAiKkURCOu"
      }
    },
    {
      "cell_type": "code",
      "source": [
        "def fibonacci_generator(limit):\n",
        "    \"\"\"Generate Fibonacci series up to a given limit.\"\"\"\n",
        "    fib_series = [0, 1]\n",
        "    while fib_series[-1] + fib_series[-2] <= limit:\n",
        "        fib_series.append(fib_series[-1] + fib_series[-2])\n",
        "    return fib_series\n",
        "\n",
        "# Example usage:\n",
        "# Generate and print Fibonacci series up to 50\n",
        "limit = 50\n",
        "result = fibonacci_generator(limit)\n",
        "print(f\"Fibonacci series up to {limit}: {result}\")\n"
      ],
      "metadata": {
        "colab": {
          "base_uri": "https://localhost:8080/"
        },
        "id": "28AbFN1ARNqX",
        "outputId": "7a03d718-9a0b-41c8-dbf1-5932a7ae9f06"
      },
      "execution_count": 5,
      "outputs": [
        {
          "output_type": "stream",
          "name": "stdout",
          "text": [
            "Fibonacci series up to 50: [0, 1, 1, 2, 3, 5, 8, 13, 21, 34]\n"
          ]
        }
      ]
    }
  ]
}
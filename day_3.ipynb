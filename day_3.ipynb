{
  "nbformat": 4,
  "nbformat_minor": 0,
  "metadata": {
    "colab": {
      "provenance": [],
      "authorship_tag": "ABX9TyMsV16DUkuJrNep3LR77DJK",
      "include_colab_link": true
    },
    "kernelspec": {
      "name": "python3",
      "display_name": "Python 3"
    },
    "language_info": {
      "name": "python"
    }
  },
  "cells": [
    {
      "cell_type": "markdown",
      "metadata": {
        "id": "view-in-github",
        "colab_type": "text"
      },
      "source": [
        "<a href=\"https://colab.research.google.com/github/udaykiran-18/python/blob/main/day_3.ipynb\" target=\"_parent\"><img src=\"https://colab.research.google.com/assets/colab-badge.svg\" alt=\"Open In Colab\"/></a>"
      ]
    },
    {
      "cell_type": "markdown",
      "source": [
        "Create a dictionary where the keys correspond to the area of a flat adn value for each is the price of the house for 10 flat in kompally\n",
        "\n",
        "\n"
      ],
      "metadata": {
        "id": "64EFBzAzNV_R"
      }
    },
    {
      "cell_type": "code",
      "source": [
        "# Dictionary of house area and house prices of 10 houses in\n",
        "# Dictionary of house area and house prices of 10 houses\n",
        "# Hint: area_price = {house_name: {'Area': area_value, 'Price': price_value}}\n",
        "house_data = {\n",
        "    'H1': {'Area': 950, 'Price': 95000},\n",
        "    'H2': {'Area': 1100, 'Price': 110000},\n",
        "    'H3': {'Area': 800, 'Price': 80000},\n",
        "    'H4': {'Area': 1300, 'Price': 130000},\n",
        "    'H5': {'Area': 700, 'Price': 70000},\n",
        "    'H6': {'Area': 1000, 'Price': 100000},\n",
        "    'H7': {'Area': 1200, 'Price': 120000},\n",
        "    'H8': {'Area': 850, 'Price': 85000},\n",
        "    'H9': {'Area': 1050, 'Price': 105000},\n",
        "    'H10': {'Area': 1250, 'Price': 125000}\n",
        "}\n",
        "\n",
        "# Displaying the house details\n",
        "for house_name, details in house_data.items():\n",
        "    print(f\"{house_name} - Area: {details['Area']} sq. ft, Price: ${details['Price']}\")\n"
      ],
      "metadata": {
        "colab": {
          "base_uri": "https://localhost:8080/"
        },
        "id": "L3dkrqDLNdWz",
        "outputId": "f04d1594-c754-4633-c9b8-779d0058bb78"
      },
      "execution_count": null,
      "outputs": [
        {
          "output_type": "stream",
          "name": "stdout",
          "text": [
            "H1 - Area: 950 sq. ft, Price: $95000\n",
            "H2 - Area: 1100 sq. ft, Price: $110000\n",
            "H3 - Area: 800 sq. ft, Price: $80000\n",
            "H4 - Area: 1300 sq. ft, Price: $130000\n",
            "H5 - Area: 700 sq. ft, Price: $70000\n",
            "H6 - Area: 1000 sq. ft, Price: $100000\n",
            "H7 - Area: 1200 sq. ft, Price: $120000\n",
            "H8 - Area: 850 sq. ft, Price: $85000\n",
            "H9 - Area: 1050 sq. ft, Price: $105000\n",
            "H10 - Area: 1250 sq. ft, Price: $125000\n"
          ]
        }
      ]
    },
    {
      "cell_type": "markdown",
      "source": [
        "Now broker predicts the price as can be written as : predicted_price(area) = 0.06*area + 15\n",
        "Using the concept of list comprehension,create a list of predicted flat price using the above formula\n"
      ],
      "metadata": {
        "id": "xl1CFB0UN5ye"
      }
    },
    {
      "cell_type": "code",
      "source": [
        "# Create a list of house areas\n",
        "house_area_list = [950, 1100, 800, 1300, 700, 1000, 1200, 850, 1050, 1250]\n",
        "\n",
        "# Use list comprehension to store the predicted house prices in a list\n",
        "predicted_price_list = [0.08 * area + 25 for area in house_area_list]\n",
        "\n",
        "# Print the list of predicted flat prices\n",
        "print(\"Predicted Price List:\", predicted_price_list)\n"
      ],
      "metadata": {
        "colab": {
          "base_uri": "https://localhost:8080/"
        },
        "id": "fiqdVeIjOATq",
        "outputId": "70b345cf-df86-482a-e1cf-7d1cd45077d2"
      },
      "execution_count": null,
      "outputs": [
        {
          "output_type": "stream",
          "name": "stdout",
          "text": [
            "Predicted Price List: [101.0, 113.0, 89.0, 129.0, 81.0, 105.0, 121.0, 93.0, 109.0, 125.0]\n"
          ]
        }
      ]
    },
    {
      "cell_type": "markdown",
      "source": [
        "Create another list which contains the squares of differences of each element of the two price lists : the actual prices and the predicted prices\n"
      ],
      "metadata": {
        "id": "EppyAbvfOLKi"
      }
    },
    {
      "cell_type": "code",
      "source": [
        "# Actual list of house prices\n",
        "actual_list = [110, 210, 230, 310]\n",
        "\n",
        "# Predicted list of house prices\n",
        "predicted_list = [80, 92, 77, 110]\n",
        "\n",
        "# Calculate the squared difference between actual and predicted prices\n",
        "squared_difference_list = [(actual ** 2 - predicted ** 2) for actual, predicted in zip(actual_list, predicted_list)]\n",
        "\n",
        "# Print the list of squared differences\n",
        "print(\"Squared Difference List:\", squared_difference_list)\n"
      ],
      "metadata": {
        "colab": {
          "base_uri": "https://localhost:8080/"
        },
        "id": "F7SrfFqAOYLy",
        "outputId": "e4286abe-d8fa-4c94-c08b-5d7957163e36"
      },
      "execution_count": null,
      "outputs": [
        {
          "output_type": "stream",
          "name": "stdout",
          "text": [
            "Squared Difference List: [5700, 35636, 46971, 84000]\n"
          ]
        }
      ]
    },
    {
      "cell_type": "markdown",
      "source": [
        "Problem 2\n",
        "A sigmoid function is a mathematical function having a characteristic \"S\"-shaped curve or sigmoid curve. A common example of a sigmoid function is the logistic function shown in the first figure and defined by the formula:\n",
        "h(x)=11+e−x\n",
        "\n",
        "Range is defined as all the possible values which the function  h(x)  can take. Domain is defined as all the possible values which  x  can take. In this case, range of the function is between 0 to 1 and the domain of the function is all real numbers\n",
        "You are given a list of values of x. You need to use list comprehension to calculate the corresponding transformation according to the sigmoid function defined above\n"
      ],
      "metadata": {
        "id": "MaXZsdnTOaLf"
      }
    },
    {
      "cell_type": "code",
      "source": [
        "# Return a list of boolean values if the sigmoid_of_x is greater than or equal to 0 and less than or equal to 1\n",
        "import math\n",
        "\n",
        "# Original list of numbers\n",
        "original_numbers = [0.5, 1.0, 1.5, 2.0, 2.5, 3.0]\n",
        "\n",
        "# Calculate sigmoid function values for each number in the original list\n",
        "sigmoid_values = [1 / (1 + math.exp(-x)) for x in original_numbers]\n",
        "\n",
        "print(\"Original List:\", original_numbers)\n",
        "print(\"Sigmoid Function Values:\", sigmoid_values)\n",
        "\n",
        "# Create a list of boolean values for sigmoid values greater than 0.5\n",
        "boolean_values = [value > 0.5 for value in sigmoid_values]\n",
        "\n",
        "print(\"Boolean Values (Sigmoid > 0.5):\", boolean_values)"
      ],
      "metadata": {
        "colab": {
          "base_uri": "https://localhost:8080/"
        },
        "id": "1LcApp9DOilf",
        "outputId": "15133507-48aa-4a0d-d15c-772bf84b7dbf"
      },
      "execution_count": null,
      "outputs": [
        {
          "output_type": "stream",
          "name": "stdout",
          "text": [
            "Original List: [0.5, 1.0, 1.5, 2.0, 2.5, 3.0]\n",
            "Sigmoid Function Values: [0.6224593312018546, 0.7310585786300049, 0.8175744761936437, 0.8807970779778823, 0.9241418199787566, 0.9525741268224334]\n",
            "Boolean Values (Sigmoid > 0.5): [True, True, True, True, True, True]\n"
          ]
        }
      ]
    },
    {
      "cell_type": "markdown",
      "source": [
        "Problem 3\n",
        "You are given a sentence : \"I have been walking and running and dancing and smiling and laughing all my life, yet it all seems pointless. So i stoped thinking and started doing\"\n",
        "You are required to extract all those words from this sentence in a list which ends with ing\n"
      ],
      "metadata": {
        "id": "b3FP4XlpOvEB"
      }
    },
    {
      "cell_type": "code",
      "source": [
        "# Your sentence\n",
        "my_sentence = \"I have been walking and running and dancing and smiling and laughing all my life, yet it all seems pointless. So I stopped thinking and started doing\"\n",
        "start_index = 0\n",
        "result_list = []\n",
        "\n",
        "for i in range(len(my_sentence)):\n",
        "    if my_sentence[i] == \" \":\n",
        "        if \"ing\" in my_sentence[start_index:i]:\n",
        "            result_list.append(my_sentence[start_index:i])\n",
        "        start_index = i\n",
        "\n",
        "if my_sentence[start_index] == \" \":\n",
        "    if \"ing\" in my_sentence[start_index:len(my_sentence)]:\n",
        "        result_list.append(my_sentence[start_index:len(my_sentence)])\n",
        "\n",
        "print(\"List is:\", result_list)"
      ],
      "metadata": {
        "colab": {
          "base_uri": "https://localhost:8080/"
        },
        "id": "hQeDeSLZOw_b",
        "outputId": "3706cf52-67e0-4627-918a-91256f740f1b"
      },
      "execution_count": null,
      "outputs": [
        {
          "output_type": "stream",
          "name": "stdout",
          "text": [
            "List is: [' walking', ' running', ' dancing', ' smiling', ' laughing', ' thinking', ' doing']\n"
          ]
        }
      ]
    },
    {
      "cell_type": "markdown",
      "source": [
        "Problem 4\n",
        "Natural Language Processing or NLP is one of the most promising fields in Machine Learning. Most of the times in NLP we deal with the textual data (a bunch of strings). Sometimes when we are processing the text, it is a common practice to get rid of some set of stop words from our original text. By default stop words are very common words used in English language such as and, or, punctuations etc.\n",
        "In this exercise, you are provided with a default set of stop words and you need to add some extra set of custom words and remove these words from the given sentence and obtain the sentence without the stop words"
      ],
      "metadata": {
        "id": "O7-G3XI9PMYn"
      }
    },
    {
      "cell_type": "code",
      "source": [
        "# A sample sentence\n",
        "k = \"Sometimes when we are processing the text, it is a common practice to get rid of some set of stop words from our original text. By default stop words are very common words used in English language such as and, or, punctuations\"\n",
        "# Print your sentence"
      ],
      "metadata": {
        "id": "s0xTI3LvPNvT"
      },
      "execution_count": null,
      "outputs": []
    },
    {
      "cell_type": "code",
      "source": [
        "# Default set of stop words\n",
        "stop_words = {\"i\", \"me\", \"my\", \"myself\", \"we\", \"our\", \"ours\", \"ourselves\", \"you\", \"your\", \"yours\", \"yourself\",\n",
        "              \"yourselves\", \"he\", \"him\", \"his\", \"himself\", \"she\", \"her\", \"hers\", \"herself\", \"it\", \"its\", \"itself\",\n",
        "              \"they\", \"them\", \"their\", \"theirs\", \"themselves\", \"what\", \"which\", \"who\", \"whom\", \"this\", \"that\",\n",
        "              \"these\", \"those\", \"am\", \"is\", \"are\", \"was\", \"were\", \"be\", \"been\", \"being\", \"have\", \"has\", \"had\",\n",
        "              \"having\", \"do\", \"does\", \"did\", \"doing\", \"a\", \"an\", \"the\", \"and\", \"but\", \"if\", \"or\", \"because\",\n",
        "              \"as\", \"until\", \"while\", \"of\", \"at\", \"by\", \"for\", \"with\", \"about\", \"against\", \"between\", \"into\",\n",
        "              \"through\", \"during\", \"before\", \"after\", \"above\", \"below\", \"to\", \"from\", \"up\", \"down\", \"in\", \"out\",\n",
        "              \"on\", \"off\", \"over\", \"under\", \"again\", \"further\", \"then\", \"once\", \"here\", \"there\", \"when\", \"where\",\n",
        "              \"why\", \"how\", \"all\", \"any\", \"both\", \"each\", \"few\", \"more\", \"most\", \"other\", \"some\", \"such\", \"no\",\n",
        "              \"nor\", \"not\", \"only\", \"own\", \"same\", \"so\", \"than\", \"too\", \"very\", \"s\", \"t\", \"can\", \"will\", \"just\",\n",
        "              \"don\", \"should\", \"now\"}"
      ],
      "metadata": {
        "id": "pKKrGYh8PUEF"
      },
      "execution_count": null,
      "outputs": []
    },
    {
      "cell_type": "code",
      "source": [
        "custom_stop_words = [\"hello\",\"folks\",\"good\",\"morning\",\"half\",\"year\"]\n",
        "# Update the set of stop words by adding the custom stop words\n",
        "d=set(custom_stop_words)\n",
        "all=d | stop_words"
      ],
      "metadata": {
        "id": "qoFq0IEUPaZ6"
      },
      "execution_count": null,
      "outputs": []
    },
    {
      "cell_type": "code",
      "source": [
        "# Create the list of words in the given sentence.\n",
        "l=k.split()"
      ],
      "metadata": {
        "id": "Ul1CmQzRPbRq"
      },
      "execution_count": null,
      "outputs": []
    },
    {
      "cell_type": "code",
      "source": [
        "# Use list comprehension to remove the set of updated stop words from the list of words\n",
        "out=[i for i in l if i not in all]"
      ],
      "metadata": {
        "id": "U288Oo9oPh2V"
      },
      "execution_count": null,
      "outputs": []
    },
    {
      "cell_type": "code",
      "source": [
        "# Finally using the join() method, get the sentence without the stop words. Keep in mind that every word in the sentence will be separated by space\n",
        "result=\" \".join(out)\n",
        "# Print the modified sentence\n",
        "print(result)"
      ],
      "metadata": {
        "colab": {
          "base_uri": "https://localhost:8080/"
        },
        "id": "7B1Uf0uvPmMN",
        "outputId": "398b9ace-da1c-486a-d05f-10af5305a53b"
      },
      "execution_count": null,
      "outputs": [
        {
          "output_type": "stream",
          "name": "stdout",
          "text": [
            "Sometimes processing text, common practice get rid set stop words original text. By default stop words common words used English language and, or, punctuations\n"
          ]
        }
      ]
    }
  ]
}
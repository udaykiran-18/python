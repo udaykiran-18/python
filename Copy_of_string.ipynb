{
  "nbformat": 4,
  "nbformat_minor": 0,
  "metadata": {
    "colab": {
      "provenance": [],
      "authorship_tag": "ABX9TyOqhj93l30uQ8ZVcQRYAO39",
      "include_colab_link": true
    },
    "kernelspec": {
      "name": "python3",
      "display_name": "Python 3"
    },
    "language_info": {
      "name": "python"
    }
  },
  "cells": [
    {
      "cell_type": "markdown",
      "metadata": {
        "id": "view-in-github",
        "colab_type": "text"
      },
      "source": [
        "<a href=\"https://colab.research.google.com/github/udaykiran-18/python/blob/main/Copy_of_string.ipynb\" target=\"_parent\"><img src=\"https://colab.research.google.com/assets/colab-badge.svg\" alt=\"Open In Colab\"/></a>"
      ]
    },
    {
      "cell_type": "markdown",
      "source": [
        "how would you confimm that two strings have the same identity?"
      ],
      "metadata": {
        "id": "i0R42LJ_7ciV"
      }
    },
    {
      "cell_type": "code",
      "source": [
        "c1=\"uday\"\n",
        "c2=\"uday\"\n",
        "if c1==c2:\n",
        "  print(\"Two Strings are same\")\n",
        "else:\n",
        "  print(\"Two strings are not same\")"
      ],
      "metadata": {
        "colab": {
          "base_uri": "https://localhost:8080/"
        },
        "id": "SmJPn2Fg7z9X",
        "outputId": "97ee6eca-9e89-4c9f-cb50-6e20ec78a9ab"
      },
      "execution_count": null,
      "outputs": [
        {
          "output_type": "stream",
          "name": "stdout",
          "text": [
            "Two Strings are same\n"
          ]
        }
      ]
    },
    {
      "cell_type": "markdown",
      "source": [
        "How to find the length and index of the string?"
      ],
      "metadata": {
        "id": "wLDkmHyX8YPT"
      }
    },
    {
      "cell_type": "code",
      "source": [
        "c1=\"Good morning\"\n",
        "print(\"the length of the string:\",len(c1))\n",
        "c2=c1.index('Good')\n",
        "print(\"\\nthe index of substring is:\",c2)"
      ],
      "metadata": {
        "colab": {
          "base_uri": "https://localhost:8080/"
        },
        "id": "nczE-jLA8djL",
        "outputId": "4ac709f4-1afb-40af-bfb1-3589aa7632a1"
      },
      "execution_count": null,
      "outputs": [
        {
          "output_type": "stream",
          "name": "stdout",
          "text": [
            "the length of the string: 12\n",
            "\n",
            "the index of substring is: 0\n"
          ]
        }
      ]
    },
    {
      "cell_type": "markdown",
      "source": [
        "how to check a string contain a specific substring"
      ],
      "metadata": {
        "id": "QJUkAZqe-8-t"
      }
    },
    {
      "cell_type": "code",
      "source": [
        "c1= \"Hello World!\"\n",
        "c2= \"World\"\n",
        "if c2 in c1:\n",
        "    print(\"The string contains the substring\",c2)\n",
        "else:\n",
        "    print(\"The string does not contain the substring\",c2)"
      ],
      "metadata": {
        "colab": {
          "base_uri": "https://localhost:8080/"
        },
        "id": "Ofs7H3Eg_E4n",
        "outputId": "62f036a3-1707-4926-bc7e-e2ad8b8dde01"
      },
      "execution_count": null,
      "outputs": [
        {
          "output_type": "stream",
          "name": "stdout",
          "text": [
            "The string contains the substring World\n"
          ]
        }
      ]
    },
    {
      "cell_type": "markdown",
      "source": [
        "how to a take a string from backward with two step difference?"
      ],
      "metadata": {
        "id": "cB2NYnFeAQih"
      }
    },
    {
      "cell_type": "code",
      "source": [
        "c1 = \"hello world\"\n",
        "c2= c1[::-2]\n",
        "\n",
        "print(\"Original string:\", c1)\n",
        "print(\"Result string:\", c2)"
      ],
      "metadata": {
        "colab": {
          "base_uri": "https://localhost:8080/"
        },
        "id": "icMx_z6LAXeC",
        "outputId": "bc9ace14-c750-4b1e-f40c-34e3cd76195a"
      },
      "execution_count": null,
      "outputs": [
        {
          "output_type": "stream",
          "name": "stdout",
          "text": [
            "Original string: hello world\n",
            "Result string: drwolh\n"
          ]
        }
      ]
    },
    {
      "cell_type": "markdown",
      "source": [
        "how to find the index of the last element"
      ],
      "metadata": {
        "id": "Xr3k2T6jA8df"
      }
    },
    {
      "cell_type": "code",
      "source": [
        "c1=\"hello\"\n",
        "print(\"Index of last element is\", len(c1)-1 )"
      ],
      "metadata": {
        "colab": {
          "base_uri": "https://localhost:8080/"
        },
        "id": "DPGH5ymeBSN2",
        "outputId": "7c535d44-d532-4a70-e334-d76f24f70cb9"
      },
      "execution_count": null,
      "outputs": [
        {
          "output_type": "stream",
          "name": "stdout",
          "text": [
            "Index of last element is 4\n"
          ]
        }
      ]
    },
    {
      "cell_type": "markdown",
      "source": [
        "Write 2 ways to concatinate the string"
      ],
      "metadata": {
        "id": "0wB_PdSyBs0o"
      }
    },
    {
      "cell_type": "code",
      "source": [
        "c1=\"hello\"\n",
        "c2=\"good\"\n",
        "print(\"ONE method concatinate is:\",c1+c2)\n",
        "c3= f'My name is {c1} and I am from the team {c2} '\n",
        "print(c3)\n"
      ],
      "metadata": {
        "colab": {
          "base_uri": "https://localhost:8080/"
        },
        "id": "HE6nuE6DBwXE",
        "outputId": "b6df5d05-6e2c-4843-cb37-9eddfcb22a43"
      },
      "execution_count": null,
      "outputs": [
        {
          "output_type": "stream",
          "name": "stdout",
          "text": [
            "ONE method concatinate is: hellogood\n",
            "My name is hello and I am from the team good \n"
          ]
        }
      ]
    }
  ]
}
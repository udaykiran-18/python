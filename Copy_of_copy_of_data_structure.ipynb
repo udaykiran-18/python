{
  "nbformat": 4,
  "nbformat_minor": 0,
  "metadata": {
    "colab": {
      "provenance": [],
      "authorship_tag": "ABX9TyP5Zzx5AJj0M3/AvIn4wSSO",
      "include_colab_link": true
    },
    "kernelspec": {
      "name": "python3",
      "display_name": "Python 3"
    },
    "language_info": {
      "name": "python"
    }
  },
  "cells": [
    {
      "cell_type": "markdown",
      "metadata": {
        "id": "view-in-github",
        "colab_type": "text"
      },
      "source": [
        "<a href=\"https://colab.research.google.com/github/udaykiran-18/python/blob/main/Copy_of_copy_of_data_structure.ipynb\" target=\"_parent\"><img src=\"https://colab.research.google.com/assets/colab-badge.svg\" alt=\"Open In Colab\"/></a>"
      ]
    },
    {
      "cell_type": "code",
      "execution_count": null,
      "metadata": {
        "id": "JnJErWJ-D8b-"
      },
      "outputs": [],
      "source": [
        "1.Difference between the list and tuple?"
      ]
    },
    {
      "cell_type": "code",
      "source": [
        "c1= [1, 2, 3, 4, 5]\n",
        "print(\"List:\", c1)\n",
        "c1[4] = 10\n",
        "print(\"List:\", c1)\n",
        "c2= (1, 2, 3, 4, 5)\n",
        "print(\"Tuple:\",c2)\n",
        "#if we modify tuple it will raise error\n"
      ],
      "metadata": {
        "colab": {
          "base_uri": "https://localhost:8080/"
        },
        "id": "1GAShgz5D_29",
        "outputId": "4783a95a-dec3-47eb-fe47-3a520d5d699b"
      },
      "execution_count": null,
      "outputs": [
        {
          "output_type": "stream",
          "name": "stdout",
          "text": [
            "List: [1, 2, 3, 4, 5]\n",
            "List: [1, 2, 3, 4, 10]\n",
            "Tuple: (1, 2, 3, 4, 5)\n"
          ]
        }
      ]
    },
    {
      "cell_type": "markdown",
      "source": [
        "2.How list is different from an array"
      ],
      "metadata": {
        "id": "VDpwyQAiFf8o"
      }
    },
    {
      "cell_type": "code",
      "source": [
        "import numpy as np\n",
        "c1=[1,2,3,\"raj\",True,5,6]\n",
        "print(\"list of elements\",c1)\n",
        "#Heterogenous Data type are stored\n",
        "c2=np.array([1,2,3,4,5,6])\n",
        "print(\"Array elements are: \",c2)\n",
        "#Homogenous type are stored"
      ],
      "metadata": {
        "colab": {
          "base_uri": "https://localhost:8080/"
        },
        "id": "jp1OeLbcFhwf",
        "outputId": "a9fff68f-9c8d-4e1d-db0b-94733d5d3f6b"
      },
      "execution_count": null,
      "outputs": [
        {
          "output_type": "stream",
          "name": "stdout",
          "text": [
            "list of elements [1, 2, 3, 'raj', True, 5, 6]\n",
            "Array elements are:  [1 2 3 4 5 6]\n"
          ]
        }
      ]
    },
    {
      "cell_type": "markdown",
      "source": [
        "3. Use the python list append(),copy(), clear, count, extends(), index(), insert(), pop(), reverse(), sort(), min(), max(),and sum()"
      ],
      "metadata": {
        "id": "NN-5z9BcGjmp"
      }
    },
    {
      "cell_type": "code",
      "source": [
        "c1= [1,2,3,4,5,6,7,8,9]\n",
        "c1.append(8)\n",
        "print(\"List after append:\",c1)\n",
        "copied_list = c1.copy()\n",
        "print(\"Copied list:\", copied_list)\n",
        "c1.clear()\n",
        "print(\"List after clear:\",c1)\n",
        "count = copied_list.count(5)\n",
        "print(\"Count of 5:\",count)\n",
        "ex_list = [7, 8, 9]\n",
        "copied_list.extend(ex_list)\n",
        "print(\"List after extend:\", copied_list)\n",
        "index_of = copied_list.index(9)\n",
        "print(\"Index of 9:\", index_of)\n",
        "copied_list.insert(2, 99)\n",
        "print(\"List after insert:\", copied_list)\n",
        "pop_element = copied_list.pop()\n",
        "print(\"Popped element:\", pop_element)\n",
        "print(\"List after pop:\", copied_list)\n",
        "copied_list.reverse()\n",
        "print(\"List after reverse:\", copied_list)\n",
        "copied_list.sort()\n",
        "print(\"List after sort:\", copied_list)\n",
        "min_value = min(copied_list)\n",
        "max_value = max(copied_list)\n",
        "print(\"Minimum value:\", min_value)\n",
        "print(\"Maximum value:\", max_value)\n",
        "sum_of_elements = sum(copied_list)\n",
        "print(\"Sum of elements:\", sum_of_elements)"
      ],
      "metadata": {
        "colab": {
          "base_uri": "https://localhost:8080/"
        },
        "id": "tTNEPELIGoOE",
        "outputId": "6b152f1b-5d34-45d4-81f5-7815b717b3a0"
      },
      "execution_count": null,
      "outputs": [
        {
          "output_type": "stream",
          "name": "stdout",
          "text": [
            "List after append: [1, 2, 3, 4, 5, 6, 7, 8, 9, 8]\n",
            "Copied list: [1, 2, 3, 4, 5, 6, 7, 8, 9, 8]\n",
            "List after clear: []\n",
            "Count of 5: 1\n",
            "List after extend: [1, 2, 3, 4, 5, 6, 7, 8, 9, 8, 7, 8, 9]\n",
            "Index of 9: 8\n",
            "List after insert: [1, 2, 99, 3, 4, 5, 6, 7, 8, 9, 8, 7, 8, 9]\n",
            "Popped element: 9\n",
            "List after pop: [1, 2, 99, 3, 4, 5, 6, 7, 8, 9, 8, 7, 8]\n",
            "List after reverse: [8, 7, 8, 9, 8, 7, 6, 5, 4, 3, 99, 2, 1]\n",
            "List after sort: [1, 2, 3, 4, 5, 6, 7, 7, 8, 8, 8, 9, 99]\n",
            "Minimum value: 1\n",
            "Maximum value: 99\n",
            "Sum of elements: 167\n"
          ]
        }
      ]
    },
    {
      "cell_type": "markdown",
      "source": [
        "\n",
        "4.How would you divide the list into two parts?"
      ],
      "metadata": {
        "id": "p-o_igbhIQlb"
      }
    },
    {
      "cell_type": "code",
      "source": [
        "c1=[1,2,3,4,5,6,7,8,9]\n",
        "f_hf=c1[0:len(c1)//2]\n",
        "s_hf=c1[len(c1)//2::]\n",
        "print(\"first half\",f_hf)\n",
        "print(\"second half\",s_hf)"
      ],
      "metadata": {
        "colab": {
          "base_uri": "https://localhost:8080/"
        },
        "id": "3OK8GFdoIcCL",
        "outputId": "55783bde-7411-4b7d-f0f9-0e631ac579c5"
      },
      "execution_count": null,
      "outputs": [
        {
          "output_type": "stream",
          "name": "stdout",
          "text": [
            "first half [1, 2, 3, 4]\n",
            "second half [5, 6, 7, 8, 9]\n"
          ]
        }
      ]
    },
    {
      "cell_type": "markdown",
      "source": [
        " 5.how to filter the multiple of 3 from a given list and them remove the odd number from the new filtered list.\n",
        " Eg A = [1,2,3,4,5,6,7,8,9,21,23,24] Filter_lsit = [3,6,9,21,24] output_list = [6,24]"
      ],
      "metadata": {
        "id": "ImhCATUWJGbd"
      }
    },
    {
      "cell_type": "code",
      "source": [
        "A = [1, 2, 3, 4, 5, 6, 7, 8, 9, 21, 23, 24]\n",
        "f_list = [x for x in A if x % 3 == 0]\n",
        "o_list = [x for x in f_list if x % 2 == 0]\n",
        "print(\"Filtered List:\", f_list)\n",
        "print(\"Output List:\", o_list)"
      ],
      "metadata": {
        "colab": {
          "base_uri": "https://localhost:8080/"
        },
        "id": "R0BL5yuPJVuQ",
        "outputId": "99f2ec57-b4a6-41f1-f3d7-99c99f565da4"
      },
      "execution_count": null,
      "outputs": [
        {
          "output_type": "stream",
          "name": "stdout",
          "text": [
            "Filtered List: [3, 6, 9, 21, 24]\n",
            "Output List: [6, 24]\n"
          ]
        }
      ]
    },
    {
      "cell_type": "markdown",
      "source": [
        "6. How you can access keys and values simultaneously and update its value"
      ],
      "metadata": {
        "id": "5YLOkjyRKQM6"
      }
    },
    {
      "cell_type": "code",
      "source": [
        "c1={1:4,2:3,3:6,4:8}\n",
        "print(\"Dictionary is :\",c1)\n",
        "for keys,values in c1.items():\n",
        "  print(keys,values)"
      ],
      "metadata": {
        "colab": {
          "base_uri": "https://localhost:8080/"
        },
        "id": "q4GnUKsHKRT9",
        "outputId": "a99c25ea-c0f0-4178-8343-68af6bc0b20e"
      },
      "execution_count": null,
      "outputs": [
        {
          "output_type": "stream",
          "name": "stdout",
          "text": [
            "Dictionary is : {1: 4, 2: 3, 3: 6, 4: 8}\n",
            "1 4\n",
            "2 3\n",
            "3 6\n",
            "4 8\n"
          ]
        }
      ]
    },
    {
      "cell_type": "markdown",
      "source": [
        "7. Write python program to join, merge, concatente the two dictionaries.."
      ],
      "metadata": {
        "id": "5mvot-ldKja4"
      }
    },
    {
      "cell_type": "code",
      "source": [
        "c1={1:\"one\",2:\"two\",3:\"three\",4:\"four\"}\n",
        "c2={5:\"Five\",6:\"six\",7:\"seven\",8:\"eight\"}\n",
        "c1.update(c2)\n",
        "print(\"Concatination the dictionary \",c1)"
      ],
      "metadata": {
        "colab": {
          "base_uri": "https://localhost:8080/"
        },
        "id": "Sh5kMpI-KoxT",
        "outputId": "7833e7be-ad69-4532-d663-6b9fced514b6"
      },
      "execution_count": null,
      "outputs": [
        {
          "output_type": "stream",
          "name": "stdout",
          "text": [
            "Concatination the dictionary  {1: 'one', 2: 'two', 3: 'three', 4: 'four', 5: 'Five', 6: 'six', 7: 'seven', 8: 'eight'}\n"
          ]
        }
      ]
    },
    {
      "cell_type": "markdown",
      "source": [
        "8. How would you check a specific keys from the dictionary??"
      ],
      "metadata": {
        "id": "Esl7QWosK_ef"
      }
    },
    {
      "cell_type": "code",
      "source": [
        "c1= {'a': 1, 'b': 2, 'c': 3, 'd': 4}\n",
        "key = 'b'\n",
        "v= c1.get(key)\n",
        "\n",
        "if v is not None:\n",
        "    print(f\"The key '{key}' exists in the dictionary with value: {v}\")\n",
        "else:\n",
        "    print(f\"The key '{key}' does not exist in the dictionary.\")"
      ],
      "metadata": {
        "colab": {
          "base_uri": "https://localhost:8080/"
        },
        "id": "tatDAQrFLHSa",
        "outputId": "7703b789-c76f-4f6a-af87-f8cc92d4bfdb"
      },
      "execution_count": null,
      "outputs": [
        {
          "output_type": "stream",
          "name": "stdout",
          "text": [
            "The key 'b' exists in the dictionary with value: 2\n"
          ]
        }
      ]
    },
    {
      "cell_type": "markdown",
      "source": [
        "9. write a python program to find the unique vowel present in the sentence\n"
      ],
      "metadata": {
        "id": "E1b_Qr6xLs-I"
      }
    },
    {
      "cell_type": "code",
      "source": [
        "s=\"good morning\"\n",
        "l=[\"a\",\"e\",\"i\",\"o\",\"u\"]\n",
        "l1=[]\n",
        "print(\"Unique vowels are present in Sentence: \",s)\n",
        "for i in s:\n",
        "  if i.lower() in l and i.lower() not in l1:\n",
        "    l1.append(i)\n",
        "    print(i,end=\" \")"
      ],
      "metadata": {
        "colab": {
          "base_uri": "https://localhost:8080/"
        },
        "id": "dkaYyHXgMEOp",
        "outputId": "5dee3915-9ad9-4cff-d591-9eae95123cd8"
      },
      "execution_count": null,
      "outputs": [
        {
          "output_type": "stream",
          "name": "stdout",
          "text": [
            "Unique vowels are present in Sentence:  good morning\n",
            "o i "
          ]
        }
      ]
    },
    {
      "cell_type": "markdown",
      "source": [
        "10. We know that tuple is immutable, do any thing and add element to the tuples."
      ],
      "metadata": {
        "id": "51Cho7BgMPxB"
      }
    },
    {
      "cell_type": "code",
      "source": [
        "c1 = (1, 2, 3)\n",
        "c2 = (4, 5, 6)\n",
        "\n",
        "c3 = c1 + c2\n",
        "print(c3)"
      ],
      "metadata": {
        "colab": {
          "base_uri": "https://localhost:8080/"
        },
        "id": "GNcBLeZPMUAh",
        "outputId": "21b1b28b-467a-4c25-c5f9-f4ca046ba43e"
      },
      "execution_count": null,
      "outputs": [
        {
          "output_type": "stream",
          "name": "stdout",
          "text": [
            "(1, 2, 3, 4, 5, 6)\n"
          ]
        }
      ]
    },
    {
      "cell_type": "markdown",
      "source": [
        "11. How would you sum the list of tuple and sum of tuple of list\n",
        "list = [(2,3),(4,5),(6,4)] output= [5,9,10]\n",
        "\n",
        "tuple =([2,3],[4,5],[6,4]) output = (5,9,10)"
      ],
      "metadata": {
        "id": "qLVuJVyXMrpm"
      }
    },
    {
      "cell_type": "code",
      "source": [
        "l1 = [(2,3),(4,5),(6,4)]\n",
        "l2=[]\n",
        "for i in l1:\n",
        "  l2.append(i[0]+i[1])\n",
        "print(tuple(l2))"
      ],
      "metadata": {
        "colab": {
          "base_uri": "https://localhost:8080/"
        },
        "id": "kE_8kS4dMvRs",
        "outputId": "87d189e2-4ae2-4836-ddc1-8772c6c9dd8d"
      },
      "execution_count": null,
      "outputs": [
        {
          "output_type": "stream",
          "name": "stdout",
          "text": [
            "(5, 9, 10)\n"
          ]
        }
      ]
    },
    {
      "cell_type": "code",
      "source": [
        "12. FIND THE FREQUENCY OF THE KEYS IN THE GIVEN DICTIONARY."
      ],
      "metadata": {
        "id": "RdgKKWxRNUCz"
      },
      "execution_count": null,
      "outputs": []
    },
    {
      "cell_type": "code",
      "source": [
        "c={1:10,2:20,3:30,4:10,5:20}\n",
        "x=list(c.values())\n",
        "new_dict={}\n",
        "for i in x:\n",
        "  new_dict[i]=new_dict.get(i,0)+1\n",
        "print(\"Dictionary is: \",c)\n",
        "print(\"Frequency of the keys Dictionary \",new_dict)"
      ],
      "metadata": {
        "colab": {
          "base_uri": "https://localhost:8080/"
        },
        "id": "zmwau69rNXOh",
        "outputId": "a892580c-1d96-427a-cdd0-6e9c64f5c6f4"
      },
      "execution_count": null,
      "outputs": [
        {
          "output_type": "stream",
          "name": "stdout",
          "text": [
            "Dictionary is:  {1: 10, 2: 20, 3: 30, 4: 10, 5: 20}\n",
            "Frequency of the keys Dictionary  {10: 2, 20: 2, 30: 1}\n"
          ]
        }
      ]
    }
  ]
}